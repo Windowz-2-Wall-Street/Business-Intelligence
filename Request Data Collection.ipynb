{
 "cells": [
  {
   "cell_type": "code",
   "execution_count": 3,
   "id": "c175741a-14cd-451d-a801-2b24ed8e1a30",
   "metadata": {},
   "outputs": [],
   "source": [
    "def getGoogleResults(params):\n",
    "    response = requests.request(url = 'https://www.google.com/search', method = \"GET\", params = params)\n",
    "    soup = BeautifulSoup(response.text, \"html.parser\")\n",
    "\n",
    "    links = soup.find_all(\"div\", class_= \"egMi0 kCrYT\")\n",
    "\n",
    "    return [link.findChild(\"a\")[\"href\"].split(\"q=\")[1].split(\"&\")[0] for link in links]"
   ]
  },
  {
   "cell_type": "code",
   "execution_count": 4,
   "id": "47fe09da-9634-43c1-89de-3af1d15f6c39",
   "metadata": {},
   "outputs": [],
   "source": [
    "from docx import Document\n",
    "\n",
    "class Word:\n",
    "    \n",
    "    def __init__(self):\n",
    "        self.__document = Document()\n",
    "        \n",
    "    def addHeading(self, text, level):\n",
    "        self.__document.add_heading(text, level = level)\n",
    "        return self\n",
    "        \n",
    "    def addParagraph(self, text):\n",
    "        self.__document.add_paragraph(text)\n",
    "        return self\n",
    "    \n",
    "    def saveDoc(self, fileName):\n",
    "        self.__document.save(f'{fileName}.docx')"
   ]
  },
  {
   "cell_type": "code",
   "execution_count": 15,
   "id": "05d7d9c4-6bc9-4aa4-9730-f8321aed9c7c",
   "metadata": {},
   "outputs": [
    {
     "name": "stdout",
     "output_type": "stream",
     "text": [
      "https://www.investopedia.com/articles/active-trading/101014/basics-algorithmic-trading-concepts-and-examples.asp\n",
      "https://www.investopedia.com/articles/active-trading/090815/picking-right-algorithmic-trading-software.asp\n",
      "https://en.wikipedia.org/wiki/Algorithmic_trading\n",
      "https://www.wsj.com/graphics/journey-inside-a-real-life-trading-algorithm/\n",
      "https://www.coursera.org/learn/trading-algorithm\n",
      "https://www.youtube.com/watch%3Fv%3DxfzGZB4HhEE\n",
      "https://www.youtube.com/watch%3Fv%3Dfqltiq5EahU\n",
      "https://www.quantconnect.com/\n",
      "https://corporatefinanceinstitute.com/resources/knowledge/trading-investing/what-are-algorithms-algos/\n",
      "https://towardsdatascience.com/the-austrian-quant-my-machine-learning-trading-algorithm-outperformed-the-sp500-for-10-years-bf7ee1d6a235\n",
      "https://en.wikipedia.org/wiki/Artificial_intelligence\n",
      "https://ai.google/\n",
      "https://builtin.com/artificial-intelligence\n",
      "https://www.techtarget.com/searchenterpriseai/definition/AI-Artificial-Intelligence\n",
      "https://www.britannica.com/technology/artificial-intelligence\n",
      "https://c3.ai/\n",
      "https://www.investopedia.com/terms/a/artificial-intelligence-ai.asp\n",
      "https://www.oracle.com/artificial-intelligence/what-is-ai/\n",
      "https://www.sas.com/en_us/insights/analytics/what-is-artificial-intelligence.html\n",
      "https://fintech.com/\n",
      "https://www.investopedia.com/terms/f/fintech.asp\n",
      "https://bootcamp.cvn.columbia.edu/blog/what-is-fintech/\n",
      "https://builtin.com/fintech\n",
      "https://en.wikipedia.org/wiki/Financial_technology\n",
      "https://fintechmagazine.com/\n",
      "https://www.fool.com/investing/stock-market/market-sectors/financials/fintech-stocks/what-is-fintech/\n",
      "https://www.forbes.com/advisor/banking/what-is-fintech/\n",
      "https://fintechmagazine.com/financial-services-finserv/why-ai-and-ml-is-reshaping-the-fintech-industry\n",
      "https://intellias.com/5-use-cases-of-machine-learning-in-fintech-and-banking/\n",
      "https://www.koombea.com/blog/8-uses-of-ai-and-machine-learning-in-fintech/\n",
      "https://www.finextra.com/blogposting/19870/fintech-ai-and-ml-what-you-need-to-know-in-2021\n",
      "https://legal.thomsonreuters.com/en/insights/articles/practical-fintech-applications-for-machine-learning\n",
      "https://www.planetcompliance.com/how-ai-machine-learning-is-infiltrating-the-fintech-industry/\n",
      "https://www.outlookindia.com/business/how-fintech-companies-are-using-ai-machine-learning-to-create-alternate-lending-score-news-194058\n",
      "https://www.ideamotive.co/blog/how-to-succeed-in-fintech-using-big-data-and-machine-learning\n",
      "https://vilmate.com/blog/machine-learning-in-fintech/\n",
      "https://www.geeksforgeeks.org/top-benefits-of-machine-learning-in-fintech/\n",
      "https://www.udacity.com/course/ai-for-trading--nd880\n",
      "https://builtin.com/artificial-intelligence/ai-trading-stock-market-tech\n",
      "https://victorytale.com/best-ai-stock-trading-software/\n",
      "https://learn2.trade/ai-trading\n",
      "https://www.investopedia.com/articles/trading/11/automated-trading-systems.asp\n",
      "https://www.b-cube.ai/\n",
      "https://daytradingz.com/artificial-intelligence-stock-trading-software/\n",
      "https://www.cryptohopper.com/\n"
     ]
    },
    {
     "ename": "FileNotFoundError",
     "evalue": "[Errno 2] No such file or directory: 'test/automated crypto trading botTop 3 Indicators to Identify the End of a Bear MarketIoTeX Bullish Hidden Divergence and Seasonal PatternShiba Inu Extended Bull Flag Calls for Imminent Breakout How Digital Artists Can Turn Their Work into NFTs and Sell ThemManage all your exchange accounts in one place.docx'",
     "output_type": "error",
     "traceback": [
      "\u001b[1;31m---------------------------------------------------------------------------\u001b[0m",
      "\u001b[1;31mFileNotFoundError\u001b[0m                         Traceback (most recent call last)",
      "\u001b[1;32m<ipython-input-15-c1546da4941a>\u001b[0m in \u001b[0;36m<module>\u001b[1;34m\u001b[0m\n\u001b[0;32m     37\u001b[0m                     \u001b[0mdocument\u001b[0m\u001b[1;33m.\u001b[0m\u001b[0maddParagraph\u001b[0m\u001b[1;33m(\u001b[0m\u001b[0mtag\u001b[0m\u001b[1;33m.\u001b[0m\u001b[0mtext\u001b[0m\u001b[1;33m)\u001b[0m\u001b[1;33m\u001b[0m\u001b[1;33m\u001b[0m\u001b[0m\n\u001b[0;32m     38\u001b[0m             \u001b[0mprint\u001b[0m\u001b[1;33m(\u001b[0m\u001b[0mwebSite\u001b[0m\u001b[1;33m)\u001b[0m\u001b[1;33m\u001b[0m\u001b[1;33m\u001b[0m\u001b[0m\n\u001b[1;32m---> 39\u001b[1;33m             \u001b[0mdocument\u001b[0m\u001b[1;33m.\u001b[0m\u001b[0msaveDoc\u001b[0m\u001b[1;33m(\u001b[0m\u001b[1;34mf'test/{title}'\u001b[0m\u001b[1;33m)\u001b[0m\u001b[1;33m\u001b[0m\u001b[1;33m\u001b[0m\u001b[0m\n\u001b[0m\u001b[0;32m     40\u001b[0m             \u001b[1;31m#data[query][webSite] = [{tag.name : tag.text}for tag in tags]\u001b[0m\u001b[1;33m\u001b[0m\u001b[1;33m\u001b[0m\u001b[1;33m\u001b[0m\u001b[0m\n",
      "\u001b[1;32m<ipython-input-4-c679a5ecf7a6>\u001b[0m in \u001b[0;36msaveDoc\u001b[1;34m(self, fileName)\u001b[0m\n\u001b[0;32m     15\u001b[0m \u001b[1;33m\u001b[0m\u001b[0m\n\u001b[0;32m     16\u001b[0m     \u001b[1;32mdef\u001b[0m \u001b[0msaveDoc\u001b[0m\u001b[1;33m(\u001b[0m\u001b[0mself\u001b[0m\u001b[1;33m,\u001b[0m \u001b[0mfileName\u001b[0m\u001b[1;33m)\u001b[0m\u001b[1;33m:\u001b[0m\u001b[1;33m\u001b[0m\u001b[1;33m\u001b[0m\u001b[0m\n\u001b[1;32m---> 17\u001b[1;33m         \u001b[0mself\u001b[0m\u001b[1;33m.\u001b[0m\u001b[0m__document\u001b[0m\u001b[1;33m.\u001b[0m\u001b[0msave\u001b[0m\u001b[1;33m(\u001b[0m\u001b[1;34mf'{fileName}.docx'\u001b[0m\u001b[1;33m)\u001b[0m\u001b[1;33m\u001b[0m\u001b[1;33m\u001b[0m\u001b[0m\n\u001b[0m",
      "\u001b[1;32m~\\Documents\\docx\\document.py\u001b[0m in \u001b[0;36msave\u001b[1;34m(self, path_or_stream)\u001b[0m\n\u001b[0;32m    133\u001b[0m         \u001b[0ma\u001b[0m \u001b[0mfilesystem\u001b[0m \u001b[0mlocation\u001b[0m \u001b[1;33m(\u001b[0m\u001b[0ma\u001b[0m \u001b[0mstring\u001b[0m\u001b[1;33m)\u001b[0m \u001b[1;32mor\u001b[0m \u001b[0ma\u001b[0m \u001b[0mfile\u001b[0m\u001b[1;33m-\u001b[0m\u001b[0mlike\u001b[0m \u001b[0mobject\u001b[0m\u001b[1;33m.\u001b[0m\u001b[1;33m\u001b[0m\u001b[1;33m\u001b[0m\u001b[0m\n\u001b[0;32m    134\u001b[0m         \"\"\"\n\u001b[1;32m--> 135\u001b[1;33m         \u001b[0mself\u001b[0m\u001b[1;33m.\u001b[0m\u001b[0m_part\u001b[0m\u001b[1;33m.\u001b[0m\u001b[0msave\u001b[0m\u001b[1;33m(\u001b[0m\u001b[0mpath_or_stream\u001b[0m\u001b[1;33m)\u001b[0m\u001b[1;33m\u001b[0m\u001b[1;33m\u001b[0m\u001b[0m\n\u001b[0m\u001b[0;32m    136\u001b[0m \u001b[1;33m\u001b[0m\u001b[0m\n\u001b[0;32m    137\u001b[0m     \u001b[1;33m@\u001b[0m\u001b[0mproperty\u001b[0m\u001b[1;33m\u001b[0m\u001b[1;33m\u001b[0m\u001b[0m\n",
      "\u001b[1;32m~\\Documents\\docx\\parts\\document.py\u001b[0m in \u001b[0;36msave\u001b[1;34m(self, path_or_stream)\u001b[0m\n\u001b[0;32m    109\u001b[0m         \u001b[0ma\u001b[0m \u001b[0mfilesystem\u001b[0m \u001b[0mlocation\u001b[0m \u001b[1;33m(\u001b[0m\u001b[0ma\u001b[0m \u001b[0mstring\u001b[0m\u001b[1;33m)\u001b[0m \u001b[1;32mor\u001b[0m \u001b[0ma\u001b[0m \u001b[0mfile\u001b[0m\u001b[1;33m-\u001b[0m\u001b[0mlike\u001b[0m \u001b[0mobject\u001b[0m\u001b[1;33m.\u001b[0m\u001b[1;33m\u001b[0m\u001b[1;33m\u001b[0m\u001b[0m\n\u001b[0;32m    110\u001b[0m         \"\"\"\n\u001b[1;32m--> 111\u001b[1;33m         \u001b[0mself\u001b[0m\u001b[1;33m.\u001b[0m\u001b[0mpackage\u001b[0m\u001b[1;33m.\u001b[0m\u001b[0msave\u001b[0m\u001b[1;33m(\u001b[0m\u001b[0mpath_or_stream\u001b[0m\u001b[1;33m)\u001b[0m\u001b[1;33m\u001b[0m\u001b[1;33m\u001b[0m\u001b[0m\n\u001b[0m\u001b[0;32m    112\u001b[0m \u001b[1;33m\u001b[0m\u001b[0m\n\u001b[0;32m    113\u001b[0m     \u001b[1;33m@\u001b[0m\u001b[0mproperty\u001b[0m\u001b[1;33m\u001b[0m\u001b[1;33m\u001b[0m\u001b[0m\n",
      "\u001b[1;32m~\\Documents\\docx\\opc\\package.py\u001b[0m in \u001b[0;36msave\u001b[1;34m(self, pkg_file)\u001b[0m\n\u001b[0;32m    170\u001b[0m         \u001b[1;32mfor\u001b[0m \u001b[0mpart\u001b[0m \u001b[1;32min\u001b[0m \u001b[0mself\u001b[0m\u001b[1;33m.\u001b[0m\u001b[0mparts\u001b[0m\u001b[1;33m:\u001b[0m\u001b[1;33m\u001b[0m\u001b[1;33m\u001b[0m\u001b[0m\n\u001b[0;32m    171\u001b[0m             \u001b[0mpart\u001b[0m\u001b[1;33m.\u001b[0m\u001b[0mbefore_marshal\u001b[0m\u001b[1;33m(\u001b[0m\u001b[1;33m)\u001b[0m\u001b[1;33m\u001b[0m\u001b[1;33m\u001b[0m\u001b[0m\n\u001b[1;32m--> 172\u001b[1;33m         \u001b[0mPackageWriter\u001b[0m\u001b[1;33m.\u001b[0m\u001b[0mwrite\u001b[0m\u001b[1;33m(\u001b[0m\u001b[0mpkg_file\u001b[0m\u001b[1;33m,\u001b[0m \u001b[0mself\u001b[0m\u001b[1;33m.\u001b[0m\u001b[0mrels\u001b[0m\u001b[1;33m,\u001b[0m \u001b[0mself\u001b[0m\u001b[1;33m.\u001b[0m\u001b[0mparts\u001b[0m\u001b[1;33m)\u001b[0m\u001b[1;33m\u001b[0m\u001b[1;33m\u001b[0m\u001b[0m\n\u001b[0m\u001b[0;32m    173\u001b[0m \u001b[1;33m\u001b[0m\u001b[0m\n\u001b[0;32m    174\u001b[0m     \u001b[1;33m@\u001b[0m\u001b[0mproperty\u001b[0m\u001b[1;33m\u001b[0m\u001b[1;33m\u001b[0m\u001b[0m\n",
      "\u001b[1;32m~\\Documents\\docx\\opc\\pkgwriter.py\u001b[0m in \u001b[0;36mwrite\u001b[1;34m(pkg_file, pkg_rels, parts)\u001b[0m\n\u001b[0;32m     30\u001b[0m         \u001b[0mcontent\u001b[0m \u001b[0mtypes\u001b[0m \u001b[0mof\u001b[0m \u001b[0mthe\u001b[0m \u001b[0mparts\u001b[0m\u001b[1;33m.\u001b[0m\u001b[1;33m\u001b[0m\u001b[1;33m\u001b[0m\u001b[0m\n\u001b[0;32m     31\u001b[0m         \"\"\"\n\u001b[1;32m---> 32\u001b[1;33m         \u001b[0mphys_writer\u001b[0m \u001b[1;33m=\u001b[0m \u001b[0mPhysPkgWriter\u001b[0m\u001b[1;33m(\u001b[0m\u001b[0mpkg_file\u001b[0m\u001b[1;33m)\u001b[0m\u001b[1;33m\u001b[0m\u001b[1;33m\u001b[0m\u001b[0m\n\u001b[0m\u001b[0;32m     33\u001b[0m         \u001b[0mPackageWriter\u001b[0m\u001b[1;33m.\u001b[0m\u001b[0m_write_content_types_stream\u001b[0m\u001b[1;33m(\u001b[0m\u001b[0mphys_writer\u001b[0m\u001b[1;33m,\u001b[0m \u001b[0mparts\u001b[0m\u001b[1;33m)\u001b[0m\u001b[1;33m\u001b[0m\u001b[1;33m\u001b[0m\u001b[0m\n\u001b[0;32m     34\u001b[0m         \u001b[0mPackageWriter\u001b[0m\u001b[1;33m.\u001b[0m\u001b[0m_write_pkg_rels\u001b[0m\u001b[1;33m(\u001b[0m\u001b[0mphys_writer\u001b[0m\u001b[1;33m,\u001b[0m \u001b[0mpkg_rels\u001b[0m\u001b[1;33m)\u001b[0m\u001b[1;33m\u001b[0m\u001b[1;33m\u001b[0m\u001b[0m\n",
      "\u001b[1;32m~\\Documents\\docx\\opc\\phys_pkg.py\u001b[0m in \u001b[0;36m__init__\u001b[1;34m(self, pkg_file)\u001b[0m\n\u001b[0;32m    139\u001b[0m     \u001b[1;32mdef\u001b[0m \u001b[0m__init__\u001b[0m\u001b[1;33m(\u001b[0m\u001b[0mself\u001b[0m\u001b[1;33m,\u001b[0m \u001b[0mpkg_file\u001b[0m\u001b[1;33m)\u001b[0m\u001b[1;33m:\u001b[0m\u001b[1;33m\u001b[0m\u001b[1;33m\u001b[0m\u001b[0m\n\u001b[0;32m    140\u001b[0m         \u001b[0msuper\u001b[0m\u001b[1;33m(\u001b[0m\u001b[0m_ZipPkgWriter\u001b[0m\u001b[1;33m,\u001b[0m \u001b[0mself\u001b[0m\u001b[1;33m)\u001b[0m\u001b[1;33m.\u001b[0m\u001b[0m__init__\u001b[0m\u001b[1;33m(\u001b[0m\u001b[1;33m)\u001b[0m\u001b[1;33m\u001b[0m\u001b[1;33m\u001b[0m\u001b[0m\n\u001b[1;32m--> 141\u001b[1;33m         \u001b[0mself\u001b[0m\u001b[1;33m.\u001b[0m\u001b[0m_zipf\u001b[0m \u001b[1;33m=\u001b[0m \u001b[0mZipFile\u001b[0m\u001b[1;33m(\u001b[0m\u001b[0mpkg_file\u001b[0m\u001b[1;33m,\u001b[0m \u001b[1;34m'w'\u001b[0m\u001b[1;33m,\u001b[0m \u001b[0mcompression\u001b[0m\u001b[1;33m=\u001b[0m\u001b[0mZIP_DEFLATED\u001b[0m\u001b[1;33m)\u001b[0m\u001b[1;33m\u001b[0m\u001b[1;33m\u001b[0m\u001b[0m\n\u001b[0m\u001b[0;32m    142\u001b[0m \u001b[1;33m\u001b[0m\u001b[0m\n\u001b[0;32m    143\u001b[0m     \u001b[1;32mdef\u001b[0m \u001b[0mclose\u001b[0m\u001b[1;33m(\u001b[0m\u001b[0mself\u001b[0m\u001b[1;33m)\u001b[0m\u001b[1;33m:\u001b[0m\u001b[1;33m\u001b[0m\u001b[1;33m\u001b[0m\u001b[0m\n",
      "\u001b[1;32mc:\\python3\\lib\\zipfile.py\u001b[0m in \u001b[0;36m__init__\u001b[1;34m(self, file, mode, compression, allowZip64, compresslevel, strict_timestamps)\u001b[0m\n\u001b[0;32m   1249\u001b[0m             \u001b[1;32mwhile\u001b[0m \u001b[1;32mTrue\u001b[0m\u001b[1;33m:\u001b[0m\u001b[1;33m\u001b[0m\u001b[1;33m\u001b[0m\u001b[0m\n\u001b[0;32m   1250\u001b[0m                 \u001b[1;32mtry\u001b[0m\u001b[1;33m:\u001b[0m\u001b[1;33m\u001b[0m\u001b[1;33m\u001b[0m\u001b[0m\n\u001b[1;32m-> 1251\u001b[1;33m                     \u001b[0mself\u001b[0m\u001b[1;33m.\u001b[0m\u001b[0mfp\u001b[0m \u001b[1;33m=\u001b[0m \u001b[0mio\u001b[0m\u001b[1;33m.\u001b[0m\u001b[0mopen\u001b[0m\u001b[1;33m(\u001b[0m\u001b[0mfile\u001b[0m\u001b[1;33m,\u001b[0m \u001b[0mfilemode\u001b[0m\u001b[1;33m)\u001b[0m\u001b[1;33m\u001b[0m\u001b[1;33m\u001b[0m\u001b[0m\n\u001b[0m\u001b[0;32m   1252\u001b[0m                 \u001b[1;32mexcept\u001b[0m \u001b[0mOSError\u001b[0m\u001b[1;33m:\u001b[0m\u001b[1;33m\u001b[0m\u001b[1;33m\u001b[0m\u001b[0m\n\u001b[0;32m   1253\u001b[0m                     \u001b[1;32mif\u001b[0m \u001b[0mfilemode\u001b[0m \u001b[1;32min\u001b[0m \u001b[0mmodeDict\u001b[0m\u001b[1;33m:\u001b[0m\u001b[1;33m\u001b[0m\u001b[1;33m\u001b[0m\u001b[0m\n",
      "\u001b[1;31mFileNotFoundError\u001b[0m: [Errno 2] No such file or directory: 'test/automated crypto trading botTop 3 Indicators to Identify the End of a Bear MarketIoTeX Bullish Hidden Divergence and Seasonal PatternShiba Inu Extended Bull Flag Calls for Imminent Breakout How Digital Artists Can Turn Their Work into NFTs and Sell ThemManage all your exchange accounts in one place.docx'"
     ]
    }
   ],
   "source": [
    "import requests\n",
    "from bs4 import BeautifulSoup\n",
    "\n",
    "url = \"https://www.google.com/\"\n",
    "params = {\"ie\" : \"utf-8\"}\n",
    "queries = [\"Trading Algorithm\", \n",
    "           \"AI\", \n",
    "           \"Fintech\", \n",
    "           \"Fintech ML\",\n",
    "           \"Trading AI\"]\n",
    "#data = {}\n",
    "illegalList = [\"#\",\"%\",\"&\",\"{\",\"}\",\"<\",\">\",\"*\",\"?\",\"/\",\"$\",\"!\",\"/'\",\"/\",\":\",\"@\",\"+\" \"`\",\"|\",\"=\",\"\\n\"]\n",
    "\n",
    "for query in queries:\n",
    "    params[\"q\"] = query\n",
    "    pages = [numResults * 10 for numResults in range(1)]\n",
    "    #data[query] = {}\n",
    "\n",
    "    for page in pages:\n",
    "        params[\"start\"] = page\n",
    "\n",
    "        for webSite in getGoogleResults(params):\n",
    "            document = Word()\n",
    "            response = requests.request(url = webSite, method = \"GET\")\n",
    "            soup = BeautifulSoup(response.text, \"html.parser\")\n",
    "            tags = soup.find_all([\"p\",\"h1\",\"h2\",\"h3\",\"h4\",\"h5\",\"h6\"])\n",
    "            title = \"\"\n",
    "            for tag in tags:\n",
    "                if \"h1\" in tag.name:\n",
    "                    for char in tag.text:\n",
    "                        if char not in illegalList:\n",
    "                            title += char\n",
    "                            \n",
    "                if \"h\" in tag.name:\n",
    "                    document.addHeading(tag.text, level = int(tag.name.replace(\"h\",\"\")))\n",
    "                else:\n",
    "                    document.addParagraph(tag.text)\n",
    "            print(webSite)\n",
    "            document.saveDoc(f'test/{title}')\n",
    "            #data[query][webSite] = [{tag.name : tag.text}for tag in tags]"
   ]
  },
  {
   "cell_type": "code",
   "execution_count": 32,
   "id": "cde96b5d-02c5-41c8-a791-f8f5ab7c4695",
   "metadata": {},
   "outputs": [
    {
     "data": {
      "text/plain": [
       "'https://www.'"
      ]
     },
     "execution_count": 32,
     "metadata": {},
     "output_type": "execute_result"
    }
   ],
   "source": [
    "r\"https://www.\""
   ]
  },
  {
   "cell_type": "code",
   "execution_count": 1,
   "id": "eca7a7b9-2857-49cf-a575-0564cece8c1e",
   "metadata": {},
   "outputs": [
    {
     "ename": "NameError",
     "evalue": "name 'data' is not defined",
     "output_type": "error",
     "traceback": [
      "\u001b[1;31m---------------------------------------------------------------------------\u001b[0m",
      "\u001b[1;31mNameError\u001b[0m                                 Traceback (most recent call last)",
      "\u001b[1;32m<ipython-input-1-c5d84736ba45>\u001b[0m in \u001b[0;36m<module>\u001b[1;34m\u001b[0m\n\u001b[1;32m----> 1\u001b[1;33m \u001b[0mdata\u001b[0m\u001b[1;33m\u001b[0m\u001b[1;33m\u001b[0m\u001b[0m\n\u001b[0m",
      "\u001b[1;31mNameError\u001b[0m: name 'data' is not defined"
     ]
    }
   ],
   "source": [
    "data"
   ]
  },
  {
   "cell_type": "code",
   "execution_count": 12,
   "id": "387dc86e-6b69-4449-b407-e7aba68d8af3",
   "metadata": {},
   "outputs": [
    {
     "data": {
      "text/plain": [
       "['#',\n",
       " '%',\n",
       " '&',\n",
       " '{',\n",
       " '}',\n",
       " '<',\n",
       " '>',\n",
       " '*',\n",
       " '?',\n",
       " '/',\n",
       " '$',\n",
       " '!',\n",
       " \"/'\",\n",
       " '/',\n",
       " ':',\n",
       " '@',\n",
       " '+`',\n",
       " '|',\n",
       " '=']"
      ]
     },
     "execution_count": 12,
     "metadata": {},
     "output_type": "execute_result"
    }
   ],
   "source": []
  },
  {
   "cell_type": "code",
   "execution_count": null,
   "id": "75ad28e2-a174-4d83-9db9-b073d3b39bc3",
   "metadata": {},
   "outputs": [],
   "source": [
    "\"\""
   ]
  }
 ],
 "metadata": {
  "kernelspec": {
   "display_name": "Python 3",
   "language": "python",
   "name": "python3"
  },
  "language_info": {
   "codemirror_mode": {
    "name": "ipython",
    "version": 3
   },
   "file_extension": ".py",
   "mimetype": "text/x-python",
   "name": "python",
   "nbconvert_exporter": "python",
   "pygments_lexer": "ipython3",
   "version": "3.8.8"
  }
 },
 "nbformat": 4,
 "nbformat_minor": 5
}
